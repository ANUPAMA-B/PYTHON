{
  "nbformat": 4,
  "nbformat_minor": 0,
  "metadata": {
    "colab": {
      "provenance": [],
      "authorship_tag": "ABX9TyNJJ14Qu11x/bq7ZEEIntsw",
      "include_colab_link": true
    },
    "kernelspec": {
      "name": "python3",
      "display_name": "Python 3"
    },
    "language_info": {
      "name": "python"
    }
  },
  "cells": [
    {
      "cell_type": "markdown",
      "metadata": {
        "id": "view-in-github",
        "colab_type": "text"
      },
      "source": [
        "<a href=\"https://colab.research.google.com/github/ANUPAMA-B/PYTHON/blob/main/20221BCA0296iteratTools.ipynb\" target=\"_parent\"><img src=\"https://colab.research.google.com/assets/colab-badge.svg\" alt=\"Open In Colab\"/></a>"
      ]
    },
    {
      "cell_type": "code",
      "execution_count": null,
      "metadata": {
        "id": "zNo6sIzrf5aS"
      },
      "outputs": [],
      "source": [
        "from itertools import count\n",
        "for number in count(start=1, step=2):\n",
        "\tif number > 10:\n",
        "\t\tbreak\n",
        "\tprint(number)"
      ]
    },
    {
      "cell_type": "code",
      "source": [
        "import itertools\n",
        "count = 0\n",
        "for i in itertools.cycle('AB'):\n",
        "\tif count > 7:\n",
        "\t\tbreak\n",
        "\telse:\n",
        "\t\tprint(i, end=\" \")\n",
        "\t\tcount += 1"
      ],
      "metadata": {
        "colab": {
          "base_uri": "https://localhost:8080/"
        },
        "id": "fYSLVJLJg5DI",
        "outputId": "da7621be-883e-4184-e5a0-f97284510a40"
      },
      "execution_count": null,
      "outputs": [
        {
          "output_type": "stream",
          "name": "stdout",
          "text": [
            "A B A B A B A B "
          ]
        }
      ]
    },
    {
      "cell_type": "code",
      "source": [
        "import itertools\n",
        "l = ['BCA', 'CSE', 'ECE']\n",
        "iterators = itertools.cycle(l)\n",
        "for i in range(6):\n",
        "\tprint(next(iterators), end=\" \")\n"
      ],
      "metadata": {
        "colab": {
          "base_uri": "https://localhost:8080/"
        },
        "id": "DwGVb0kBhEdG",
        "outputId": "764fb8bd-ea20-4357-b7f4-b2039ca56578"
      },
      "execution_count": null,
      "outputs": [
        {
          "output_type": "stream",
          "name": "stdout",
          "text": [
            "BCA CSE ECE BCA CSE ECE "
          ]
        }
      ]
    },
    {
      "cell_type": "code",
      "source": [
        "import itertools\n",
        "print(\"Printing the numbers repeatedly : \")\n",
        "print(list(itertools.repeat(25, 4)))\n"
      ],
      "metadata": {
        "colab": {
          "base_uri": "https://localhost:8080/"
        },
        "id": "warVQv6ihPeE",
        "outputId": "43e70cf2-4de8-44eb-fe46-69e83c1afd8b"
      },
      "execution_count": null,
      "outputs": [
        {
          "output_type": "stream",
          "name": "stdout",
          "text": [
            "Printing the numbers repeatedly : \n",
            "[25, 25, 25, 25]\n"
          ]
        }
      ]
    },
    {
      "cell_type": "code",
      "source": [
        "from itertools import product\n",
        "print(\"The cartesian product using repeat:\")\n",
        "print(list(product([1, 2], repeat=2)))\n",
        "print()\n",
        "\n",
        "print(\"The cartesian product of the containers:\")\n",
        "print(list(product(['BCA', 'MBA', 'BBA'], '2')))\n",
        "print()\n",
        "\n",
        "print(\"The cartesian product of the containers:\")\n",
        "print(list(product('AB', [3, 4])))"
      ],
      "metadata": {
        "colab": {
          "base_uri": "https://localhost:8080/"
        },
        "id": "xqPuHE0UhfaW",
        "outputId": "c8d52cfb-f8e0-4098-b1bb-9e921ff0e0d1"
      },
      "execution_count": null,
      "outputs": [
        {
          "output_type": "stream",
          "name": "stdout",
          "text": [
            "The cartesian product using repeat:\n",
            "[(1, 1), (1, 2), (2, 1), (2, 2)]\n",
            "\n",
            "The cartesian product of the containers:\n",
            "[('BCA', '2'), ('MBA', '2'), ('BBA', '2')]\n",
            "\n",
            "The cartesian product of the containers:\n",
            "[('A', 3), ('A', 4), ('B', 3), ('B', 4)]\n"
          ]
        }
      ]
    },
    {
      "cell_type": "code",
      "source": [
        "from itertools import combinations\n",
        "\n",
        "print (\"All the combination of list in sorted order(without replacement) is:\")\n",
        "print(list(combinations(['A', 2], 2)))\n",
        "print()\n",
        "\n",
        "print (\"All the combination of string in sorted order(without replacement) is:\")\n",
        "print(list(combinations('AB', 2)))\n",
        "print()\n",
        "\n",
        "print (\"All the combination of list in sorted order(without replacement) is:\")\n",
        "print(list(combinations(range(2), 1)))"
      ],
      "metadata": {
        "colab": {
          "base_uri": "https://localhost:8080/"
        },
        "id": "RjEOOJE-hqiX",
        "outputId": "28b255c4-e107-423f-a8c3-8c4ec4110c42"
      },
      "execution_count": null,
      "outputs": [
        {
          "output_type": "stream",
          "name": "stdout",
          "text": [
            "All the combination of list in sorted order(without replacement) is:\n",
            "[('A', 2)]\n",
            "\n",
            "All the combination of string in sorted order(without replacement) is:\n",
            "[('A', 'B')]\n",
            "\n",
            "All the combination of list in sorted order(without replacement) is:\n",
            "[(0,), (1,)]\n"
          ]
        }
      ]
    },
    {
      "cell_type": "code",
      "source": [
        "\n",
        "import itertools\n",
        "import operator\n",
        "li1 = [9, 12, 15, 17]\n",
        "print(\"The sum after each iteration is : \", end=\"\")\n",
        "print(list(itertools.accumulate(li1)))\n",
        "print(\"The product after each iteration is : \", end=\"\")\n",
        "print(list(itertools.accumulate(li1, operator.mul)))\n",
        "print(\"The sum after each iteration is : \", end=\"\")\n",
        "print(list(itertools.accumulate(li1)))\n",
        "print(\"The product after each iteration is : \", end=\"\")\n",
        "print(list(itertools.accumulate(li1, operator.mul)))"
      ],
      "metadata": {
        "colab": {
          "base_uri": "https://localhost:8080/"
        },
        "id": "mk58mdyjh-D7",
        "outputId": "14a9d0ca-9621-46a5-d961-3c5865a48105"
      },
      "execution_count": null,
      "outputs": [
        {
          "output_type": "stream",
          "name": "stdout",
          "text": [
            "The sum after each iteration is : [9, 21, 36, 53]\n",
            "The product after each iteration is : [9, 108, 1620, 27540]\n",
            "The sum after each iteration is : [9, 21, 36, 53]\n",
            "The product after each iteration is : [9, 108, 1620, 27540]\n"
          ]
        }
      ]
    },
    {
      "cell_type": "code",
      "source": [
        "import itertools\n",
        "li1 = [9, 14, 15, 17]\n",
        "li2 = [1, 6, 5, 19]\n",
        "li3 = [18, 10, 5, 4]\n",
        "print(\"All values in mentioned chain are : \", end=\"\")\n",
        "print(list(itertools.chain(li1, li2, li3)))\n"
      ],
      "metadata": {
        "colab": {
          "base_uri": "https://localhost:8080/"
        },
        "id": "KCjXqRTqiFAw",
        "outputId": "ddc85d25-9f4f-44ef-b9ab-9661d9572f47"
      },
      "execution_count": null,
      "outputs": [
        {
          "output_type": "stream",
          "name": "stdout",
          "text": [
            "All values in mentioned chain are : [9, 14, 15, 17, 1, 6, 5, 19, 18, 10, 5, 4]\n"
          ]
        }
      ]
    },
    {
      "cell_type": "code",
      "source": [
        "import itertools\n",
        "li1 = [1, 4, 5, 7]\n",
        "li2 = [1, 6, 5, 9]\n",
        "li3 = [8, 10, 5, 4]\n",
        "li4 = [li1, li2, li3]\n",
        "print (\"All values in mentioned chain are : \", end =\"\")\n",
        "print (list(itertools.chain.from_iterable(li4)))"
      ],
      "metadata": {
        "colab": {
          "base_uri": "https://localhost:8080/"
        },
        "id": "qUVhfZ7diP3o",
        "outputId": "13be867b-0182-429d-9ead-57e068df132e"
      },
      "execution_count": null,
      "outputs": [
        {
          "output_type": "stream",
          "name": "stdout",
          "text": [
            "All values in mentioned chain are : [1, 4, 5, 7, 1, 6, 5, 9, 8, 10, 5, 4]\n"
          ]
        }
      ]
    },
    {
      "cell_type": "code",
      "source": [
        "import itertools\n",
        "print(\"The compressed values in string are : \", end=\"\")\n",
        "print(list(itertools.compress('GEEKSFORGEEKS', [\n",
        "\t1, 0, 0, 0, 0, 1, 0, 0, 1, 0, 0, 0, 0])))\n"
      ],
      "metadata": {
        "colab": {
          "base_uri": "https://localhost:8080/"
        },
        "id": "el0fRUNWicsj",
        "outputId": "2f53d6bd-8343-4fe4-e74f-f48ba148ad1a"
      },
      "execution_count": null,
      "outputs": [
        {
          "output_type": "stream",
          "name": "stdout",
          "text": [
            "The compressed values in string are : ['G', 'F', 'G']\n"
          ]
        }
      ]
    },
    {
      "cell_type": "code",
      "source": [
        "import itertools\n",
        "li = [21, 41, 15, 37, 18]\n",
        "print (\"The values after condition returns false : \", end =\"\")\n",
        "print (list(itertools.dropwhile(lambda x : x % 2 == 0, li)))"
      ],
      "metadata": {
        "colab": {
          "base_uri": "https://localhost:8080/"
        },
        "id": "KWqWv5A0inek",
        "outputId": "6836ce49-82a5-40e7-bd87-5281ca616e2f"
      },
      "execution_count": null,
      "outputs": [
        {
          "output_type": "stream",
          "name": "stdout",
          "text": [
            "The values after condition returns false : [21, 41, 15, 37, 18]\n"
          ]
        }
      ]
    },
    {
      "cell_type": "code",
      "source": [
        "import itertools\n",
        "li = [2, 4, 5, 7, 8, 10, 20]\n",
        "print (\"The sliced list values are : \", end =\"\")\n",
        "print (list(itertools.islice(li, 1, 6, 2)))"
      ],
      "metadata": {
        "colab": {
          "base_uri": "https://localhost:8080/"
        },
        "id": "AwK5vcT0ivSU",
        "outputId": "79b8cdad-2d5f-4bae-f71f-3d41c57c82fa"
      },
      "execution_count": null,
      "outputs": [
        {
          "output_type": "stream",
          "name": "stdout",
          "text": [
            "The sliced list values are : [4, 7, 10]\n"
          ]
        }
      ]
    },
    {
      "cell_type": "code",
      "source": [
        "import itertools\n",
        "li = [ (1, 10, 5), (8, 4, 1), (5, 4, 9), (11, 10, 1) ]\n",
        "print (\"The values acc. to function are : \", end =\"\")\n",
        "print (list(itertools.starmap(min, li)))\n"
      ],
      "metadata": {
        "colab": {
          "base_uri": "https://localhost:8080/"
        },
        "id": "rniNwy7ri1Za",
        "outputId": "fb816b80-dbc5-4403-89f3-d24da757d37d"
      },
      "execution_count": null,
      "outputs": [
        {
          "output_type": "stream",
          "name": "stdout",
          "text": [
            "The values acc. to function are : [1, 1, 4, 1]\n"
          ]
        }
      ]
    },
    {
      "cell_type": "code",
      "source": [
        "import itertools\n",
        "li = [12, 14, 26, 17, 38, 1, 20]\n",
        "print (\"The list values till 1st false value are : \", end =\"\")\n",
        "print (list(itertools.takewhile(lambda x : x % 2 == 0, li )))"
      ],
      "metadata": {
        "colab": {
          "base_uri": "https://localhost:8080/"
        },
        "id": "j8X3QYkbi3LF",
        "outputId": "188f991d-80b7-484b-9154-2c2e49c0e78f"
      },
      "execution_count": null,
      "outputs": [
        {
          "output_type": "stream",
          "name": "stdout",
          "text": [
            "The list values till 1st false value are : [12, 14, 26]\n"
          ]
        }
      ]
    },
    {
      "cell_type": "code",
      "source": [
        "import itertools\n",
        "\n",
        "# initializing list\n",
        "li = [2, 4, 6, 7, 8, 10, 20]\n",
        "\n",
        "# storing list in iterator\n",
        "iti = iter(li)\n",
        "\n",
        "# using tee() to make a list of iterators\n",
        "# makes list of 3 iterators having same values.\n",
        "it = itertools.tee(iti, 3)\n",
        "\n",
        "# printing the values of iterators\n",
        "print(\"The iterators are : \")\n",
        "for i in range(0, 3):\n",
        "\tprint(list(it[i]))\n"
      ],
      "metadata": {
        "id": "5K4n_llXjHCl"
      },
      "execution_count": null,
      "outputs": []
    },
    {
      "cell_type": "code",
      "source": [
        "import itertools\n",
        "print(\"The combined values of iterables is : \")\n",
        "print(*(itertools.zip_longest('Peiec', 'rsdny', fillvalue='_')))"
      ],
      "metadata": {
        "colab": {
          "base_uri": "https://localhost:8080/"
        },
        "id": "Yk1oyk0wjO-y",
        "outputId": "c9a59a09-5d03-4d09-b4f7-fa251a6ccf04"
      },
      "execution_count": null,
      "outputs": [
        {
          "output_type": "stream",
          "name": "stdout",
          "text": [
            "The combined values of iterables is : \n",
            "('P', 'r') ('e', 's') ('i', 'd') ('e', 'n') ('c', 'y')\n"
          ]
        }
      ]
    }
  ]
}