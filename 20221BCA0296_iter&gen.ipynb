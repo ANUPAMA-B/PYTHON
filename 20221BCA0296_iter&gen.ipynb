{
  "nbformat": 4,
  "nbformat_minor": 0,
  "metadata": {
    "colab": {
      "provenance": [],
      "authorship_tag": "ABX9TyMqtFuGkwW4TAAi66GsFXle",
      "include_colab_link": true
    },
    "kernelspec": {
      "name": "python3",
      "display_name": "Python 3"
    },
    "language_info": {
      "name": "python"
    }
  },
  "cells": [
    {
      "cell_type": "markdown",
      "metadata": {
        "id": "view-in-github",
        "colab_type": "text"
      },
      "source": [
        "<a href=\"https://colab.research.google.com/github/ANUPAMA-B/PYTHON/blob/main/20221BCA0296_iter%26gen.ipynb\" target=\"_parent\"><img src=\"https://colab.research.google.com/assets/colab-badge.svg\" alt=\"Open In Colab\"/></a>"
      ]
    },
    {
      "cell_type": "code",
      "source": [
        "A = [1, 2, 3]\n",
        "iterator = iter(A)\n",
        "t = tuple(iterator)\n",
        "t"
      ],
      "metadata": {
        "colab": {
          "base_uri": "https://localhost:8080/"
        },
        "id": "uy_PO7zZQXQg",
        "outputId": "73293028-70c1-4745-f1b0-090ae1ccf9ac"
      },
      "execution_count": null,
      "outputs": [
        {
          "output_type": "execute_result",
          "data": {
            "text/plain": [
              "(1, 2, 3)"
            ]
          },
          "metadata": {},
          "execution_count": 1
        }
      ]
    },
    {
      "cell_type": "code",
      "source": [
        "m = {'Jan': 1, 'Feb': 2, 'Mar': 3, 'Apr': 4, 'May': 5, 'Jun': 6, 'Jul': 7, 'Aug': 8, 'Sep': 9, 'Oct': 10, 'Nov': 11, 'Dec': 12}\n",
        "for key in m:\n",
        "  print(key, m[key])"
      ],
      "metadata": {
        "colab": {
          "base_uri": "https://localhost:8080/"
        },
        "id": "2cqe8XjdQnC4",
        "outputId": "b2fab210-799d-418f-cf40-2a118ef7f64a"
      },
      "execution_count": null,
      "outputs": [
        {
          "output_type": "stream",
          "name": "stdout",
          "text": [
            "Jan 1\n",
            "Feb 2\n",
            "Mar 3\n",
            "Apr 4\n",
            "May 5\n",
            "Jun 6\n",
            "Jul 7\n",
            "Aug 8\n",
            "Sep 9\n",
            "Oct 10\n",
            "Nov 11\n",
            "Dec 12\n"
          ]
        }
      ]
    },
    {
      "cell_type": "code",
      "source": [
        "l=[1,2,3]\n",
        "[2*i for i in l]"
      ],
      "metadata": {
        "colab": {
          "base_uri": "https://localhost:8080/"
        },
        "id": "GFYFL0b9QtNO",
        "outputId": "fa1bf015-93ac-4115-e964-8344755a4cdf"
      },
      "execution_count": null,
      "outputs": [
        {
          "output_type": "execute_result",
          "data": {
            "text/plain": [
              "[2, 4, 6]"
            ]
          },
          "metadata": {},
          "execution_count": 3
        }
      ]
    },
    {
      "cell_type": "code",
      "source": [
        "l=[1,2,3]\n",
        "for i in l:\n",
        "  x=2*i\n",
        "  print(x)\n"
      ],
      "metadata": {
        "colab": {
          "base_uri": "https://localhost:8080/"
        },
        "id": "n0-qjg3mQx92",
        "outputId": "4b6b12df-1e57-43c6-8390-921aaab81e93"
      },
      "execution_count": null,
      "outputs": [
        {
          "output_type": "stream",
          "name": "stdout",
          "text": [
            "2\n",
            "4\n",
            "6\n"
          ]
        }
      ]
    },
    {
      "cell_type": "code",
      "source": [
        "line_list = ['  Presidency University\\n', ' Computer applications\\n', ' Dept Of bca \\n', '  \\n']\n",
        "stripped_iter = (line.strip() for line in line_list)\n"
      ],
      "metadata": {
        "id": "Vi7OUhbbQ7bg"
      },
      "execution_count": null,
      "outputs": []
    },
    {
      "cell_type": "code",
      "source": [
        "stripped_list = [line.strip() for line in line_list]\n",
        "print(stripped_list)"
      ],
      "metadata": {
        "colab": {
          "base_uri": "https://localhost:8080/"
        },
        "id": "YZ3SKM82RODx",
        "outputId": "b634210e-0bf3-49cb-fdbb-063cfadd7746"
      },
      "execution_count": null,
      "outputs": [
        {
          "output_type": "stream",
          "name": "stdout",
          "text": [
            "['Presidency University', 'Computer applications', 'Dept Of bca', '']\n"
          ]
        }
      ]
    },
    {
      "cell_type": "code",
      "source": [
        "stripped_list = [line.strip() for line in line_list]\n",
        "print(stripped_list)"
      ],
      "metadata": {
        "colab": {
          "base_uri": "https://localhost:8080/"
        },
        "id": "UpyzThQmRSx6",
        "outputId": "5c9e7277-bd15-434d-9b2a-242bb58d2480"
      },
      "execution_count": null,
      "outputs": [
        {
          "output_type": "stream",
          "name": "stdout",
          "text": [
            "['Presidency University', 'Computer applications', 'Dept Of bca', '']\n"
          ]
        }
      ]
    },
    {
      "cell_type": "code",
      "source": [
        "seq1 = 'abc'\n",
        "seq2 = (1, 2, 3)\n",
        "[(x, y) for x in seq1 for y in seq2]"
      ],
      "metadata": {
        "colab": {
          "base_uri": "https://localhost:8080/"
        },
        "id": "cYWC5WkmRqzo",
        "outputId": "6b836269-767e-4544-ce5e-2f3140ccc42f"
      },
      "execution_count": null,
      "outputs": [
        {
          "output_type": "execute_result",
          "data": {
            "text/plain": [
              "[('a', 1),\n",
              " ('a', 2),\n",
              " ('a', 3),\n",
              " ('b', 1),\n",
              " ('b', 2),\n",
              " ('b', 3),\n",
              " ('c', 1),\n",
              " ('c', 2),\n",
              " ('c', 3)]"
            ]
          },
          "metadata": {},
          "execution_count": 9
        }
      ]
    },
    {
      "cell_type": "code",
      "source": [
        "def generate_ints(N):\n",
        "  for i in range(N):\n",
        "    yield i\n",
        "gen=generate_ints(8)\n",
        "next(gen)"
      ],
      "metadata": {
        "colab": {
          "base_uri": "https://localhost:8080/"
        },
        "id": "s4BcmWU8R2xQ",
        "outputId": "6d9298b3-a87d-4d7b-ab68-483d124bf707"
      },
      "execution_count": null,
      "outputs": [
        {
          "output_type": "execute_result",
          "data": {
            "text/plain": [
              "0"
            ]
          },
          "metadata": {},
          "execution_count": 34
        }
      ]
    },
    {
      "cell_type": "code",
      "source": [
        "next(gen)"
      ],
      "metadata": {
        "colab": {
          "base_uri": "https://localhost:8080/"
        },
        "id": "1W9guMGiSCAp",
        "outputId": "d0d1ed75-3546-49a8-e076-1c6b1b4bb844"
      },
      "execution_count": null,
      "outputs": [
        {
          "output_type": "execute_result",
          "data": {
            "text/plain": [
              "1"
            ]
          },
          "metadata": {},
          "execution_count": 11
        }
      ]
    },
    {
      "cell_type": "code",
      "source": [
        "def counter(maximum):\n",
        "    i = 0\n",
        "    while i < maximum:\n",
        "        val = (yield i)\n",
        "        # If value provided, change counter\n",
        "        if val is not None:\n",
        "            i = val\n",
        "        else:\n",
        "            i += 1\n",
        "it = counter(10)\n",
        "next(it)"
      ],
      "metadata": {
        "colab": {
          "base_uri": "https://localhost:8080/"
        },
        "id": "avQFWMh0SKuh",
        "outputId": "010b87f1-5b4b-45e0-aecd-6a19f68c47a6"
      },
      "execution_count": null,
      "outputs": [
        {
          "output_type": "execute_result",
          "data": {
            "text/plain": [
              "0"
            ]
          },
          "metadata": {},
          "execution_count": 35
        }
      ]
    },
    {
      "cell_type": "code",
      "source": [
        "next(it)"
      ],
      "metadata": {
        "colab": {
          "base_uri": "https://localhost:8080/"
        },
        "id": "K7V1V0WsSUIP",
        "outputId": "595cda82-8562-4e87-e74a-af52d2682ea8"
      },
      "execution_count": null,
      "outputs": [
        {
          "output_type": "execute_result",
          "data": {
            "text/plain": [
              "3"
            ]
          },
          "metadata": {},
          "execution_count": 15
        }
      ]
    },
    {
      "cell_type": "code",
      "source": [
        "next(it)"
      ],
      "metadata": {
        "colab": {
          "base_uri": "https://localhost:8080/"
        },
        "id": "HGN9z2SVSWp3",
        "outputId": "0c8201b1-4e32-426d-910f-9d2112deddc8"
      },
      "execution_count": null,
      "outputs": [
        {
          "output_type": "execute_result",
          "data": {
            "text/plain": [
              "2"
            ]
          },
          "metadata": {},
          "execution_count": 14
        }
      ]
    },
    {
      "cell_type": "code",
      "source": [
        "next(it)"
      ],
      "metadata": {
        "colab": {
          "base_uri": "https://localhost:8080/"
        },
        "id": "F0AP-RpOSYeZ",
        "outputId": "1ae5f80d-ef94-4a95-b6a3-f931db2e780b"
      },
      "execution_count": null,
      "outputs": [
        {
          "output_type": "execute_result",
          "data": {
            "text/plain": [
              "4"
            ]
          },
          "metadata": {},
          "execution_count": 16
        }
      ]
    },
    {
      "cell_type": "code",
      "source": [
        "it.send(8)"
      ],
      "metadata": {
        "colab": {
          "base_uri": "https://localhost:8080/"
        },
        "id": "KhHHI2ZaSbSP",
        "outputId": "f5ee5796-94da-4299-e12e-17c45bb62d26"
      },
      "execution_count": null,
      "outputs": [
        {
          "output_type": "execute_result",
          "data": {
            "text/plain": [
              "8"
            ]
          },
          "metadata": {},
          "execution_count": 17
        }
      ]
    },
    {
      "cell_type": "code",
      "source": [
        "next(it)"
      ],
      "metadata": {
        "colab": {
          "base_uri": "https://localhost:8080/"
        },
        "id": "52nsuI7oSe0g",
        "outputId": "ef7fcc44-4f0a-43f4-9de0-b86de2879474"
      },
      "execution_count": null,
      "outputs": [
        {
          "output_type": "execute_result",
          "data": {
            "text/plain": [
              "9"
            ]
          },
          "metadata": {},
          "execution_count": 18
        }
      ]
    },
    {
      "cell_type": "code",
      "source": [
        "def upper(s):\n",
        "  return s.upper()\n",
        "list(map(upper, ['presidency', 'university']))"
      ],
      "metadata": {
        "colab": {
          "base_uri": "https://localhost:8080/"
        },
        "id": "Dz6GBiJxSjTR",
        "outputId": "97b8f047-234c-45a9-efd3-3b068cbb8c72"
      },
      "execution_count": null,
      "outputs": [
        {
          "output_type": "execute_result",
          "data": {
            "text/plain": [
              "['PRESIDENCY', 'UNIVERSITY']"
            ]
          },
          "metadata": {},
          "execution_count": 36
        }
      ]
    },
    {
      "cell_type": "code",
      "source": [
        "def is_even(x):\n",
        "  return (x % 2) == 0\n",
        "list(filter(is_even, range(20)))"
      ],
      "metadata": {
        "colab": {
          "base_uri": "https://localhost:8080/"
        },
        "id": "HR1cvdMHStQi",
        "outputId": "82911b72-6db4-4b52-8338-52656f32b921"
      },
      "execution_count": null,
      "outputs": [
        {
          "output_type": "execute_result",
          "data": {
            "text/plain": [
              "[0, 2, 4, 6, 8, 10, 12, 14, 16, 18]"
            ]
          },
          "metadata": {},
          "execution_count": 37
        }
      ]
    },
    {
      "cell_type": "code",
      "source": [
        "list(x for x in range(20) if is_even(x))"
      ],
      "metadata": {
        "colab": {
          "base_uri": "https://localhost:8080/"
        },
        "id": "Qt_RpNzxSwVx",
        "outputId": "13942cb2-57c4-4710-f266-f58b1f36f1f5"
      },
      "execution_count": null,
      "outputs": [
        {
          "output_type": "execute_result",
          "data": {
            "text/plain": [
              "[0, 2, 4, 6, 8, 10, 12, 14, 16, 18]"
            ]
          },
          "metadata": {},
          "execution_count": 30
        }
      ]
    },
    {
      "cell_type": "code",
      "source": [
        "for item in enumerate(['A', 'N', 'U']):\n",
        "  print(item)"
      ],
      "metadata": {
        "colab": {
          "base_uri": "https://localhost:8080/"
        },
        "id": "1fs3ftekSzgR",
        "outputId": "a2bb765f-c9c0-40ce-dc7d-edd0916097b2"
      },
      "execution_count": null,
      "outputs": [
        {
          "output_type": "stream",
          "name": "stdout",
          "text": [
            "(0, 'A')\n",
            "(1, 'N')\n",
            "(2, 'U')\n"
          ]
        }
      ]
    },
    {
      "cell_type": "code",
      "source": [
        "import random\n",
        "rand_list = random.sample(range(20000), 8)\n",
        "rand_list"
      ],
      "metadata": {
        "colab": {
          "base_uri": "https://localhost:8080/"
        },
        "id": "-TZxLv8jS50x",
        "outputId": "d13ad7f6-a020-4b64-ae22-068780953935"
      },
      "execution_count": null,
      "outputs": [
        {
          "output_type": "execute_result",
          "data": {
            "text/plain": [
              "[16110, 18544, 867, 11156, 3949, 13285, 16889, 19060]"
            ]
          },
          "metadata": {},
          "execution_count": 23
        }
      ]
    },
    {
      "cell_type": "code",
      "source": [
        "sorted(rand_list)"
      ],
      "metadata": {
        "colab": {
          "base_uri": "https://localhost:8080/"
        },
        "id": "ZJN02HS2TDgr",
        "outputId": "4c292b97-3459-4498-de76-83d4060bc4cf"
      },
      "execution_count": null,
      "outputs": [
        {
          "output_type": "execute_result",
          "data": {
            "text/plain": [
              "[867, 3949, 11156, 13285, 16110, 16889, 18544, 19060]"
            ]
          },
          "metadata": {},
          "execution_count": 32
        }
      ]
    },
    {
      "cell_type": "code",
      "source": [
        "sorted(rand_list, reverse=True)"
      ],
      "metadata": {
        "colab": {
          "base_uri": "https://localhost:8080/"
        },
        "id": "hsoB__d5TKQC",
        "outputId": "9eac5f9c-c710-4309-9a90-1b71c90b59f9"
      },
      "execution_count": null,
      "outputs": [
        {
          "output_type": "execute_result",
          "data": {
            "text/plain": [
              "[19060, 18544, 16889, 16110, 13285, 11156, 3949, 867]"
            ]
          },
          "metadata": {},
          "execution_count": 25
        }
      ]
    },
    {
      "cell_type": "code",
      "source": [
        "any([0, 1, 0])"
      ],
      "metadata": {
        "colab": {
          "base_uri": "https://localhost:8080/"
        },
        "id": "tM4DTBnaTbCS",
        "outputId": "c1449153-ba31-45a6-9505-576c88321c48"
      },
      "execution_count": null,
      "outputs": [
        {
          "output_type": "execute_result",
          "data": {
            "text/plain": [
              "True"
            ]
          },
          "metadata": {},
          "execution_count": 26
        }
      ]
    },
    {
      "cell_type": "code",
      "source": [
        "all([0, 1, 0])"
      ],
      "metadata": {
        "colab": {
          "base_uri": "https://localhost:8080/"
        },
        "id": "rlrFBkXyTfBr",
        "outputId": "61a41655-5560-4765-a574-a82708c700a4"
      },
      "execution_count": null,
      "outputs": [
        {
          "output_type": "execute_result",
          "data": {
            "text/plain": [
              "False"
            ]
          },
          "metadata": {},
          "execution_count": 27
        }
      ]
    }
  ]
}